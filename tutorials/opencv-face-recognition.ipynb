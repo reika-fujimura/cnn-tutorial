{
 "cells": [
  {
   "cell_type": "markdown",
   "metadata": {},
   "source": [
    "## Haar cascade classifier\n",
    "\n",
    " - [Official Document](https://docs.opencv.org/3.4/db/d28/tutorial_cascade_classifier.html)\n",
    " - [Original Paper](https://www.cs.cmu.edu/~efros/courses/LBMV07/Papers/viola-cvpr-01.pdf)\n",
    " - [Haar cascade classifier explained (medium)](https://medium.com/analytics-vidhya/haar-cascades-explained-38210e57970d)\n",
    " \n",
    "#### Summary of this file\n",
    " - Using Haar cascade classifier implemented in opencv, detect face and facial parts of human image data.\n",
    "\n",
    "#### Ideas\n",
    " - Calculate Haar Features\n",
    "     - Sum up the pixel intensities in each region and calculate the differences between the sums.\n",
    " - Create Integral Images\n",
    "     - The purpose of this step is to spped up the procesure. Instead of computing at every pixel, the model 1) creates sub-rectangles and 2)creates array references for each of those sub-rectangles.\n",
    " - Apply Adaboost\n",
    "     - Sequentially train many weak learners to reduce false negative rate.\n",
    " - Implement Cascading Classifiers\n",
    "\n",
    "\n",
    "##### Import Libraries"
   ]
  },
  {
   "cell_type": "code",
   "execution_count": 1,
   "metadata": {},
   "outputs": [],
   "source": [
    "import numpy as np\n",
    "import cv2"
   ]
  },
  {
   "cell_type": "markdown",
   "metadata": {},
   "source": [
    "##### Detect Face and Eyes"
   ]
  },
  {
   "cell_type": "code",
   "execution_count": 3,
   "metadata": {},
   "outputs": [],
   "source": [
    "face_cascade = cv2.CascadeClassifier('models/haarcascade_frontalface_default.xml')\n",
    "eye_cascade = cv2.CascadeClassifier('models/haarcascade_eye.xml')\n",
    "'''load pre-trained models\n",
    "source -> https://github.com/opencv/opencv/tree/4.x/data/haarcascades\n",
    "'''\n",
    "# Read the input image\n",
    "image = cv2.imread('data/face.jpg')\n",
    "# Convert into grayscale\n",
    "gray = cv2.cvtColor(image, cv2.COLOR_BGR2GRAY)\n",
    "# Detect faces\n",
    "faces = face_cascade.detectMultiScale(gray, 1.3, 5)\n",
    "# Draw rectangle around the faces\n",
    "for (x,y,w,h) in faces:\n",
    "    img = cv2.rectangle(image,(x,y),(x+w,y+h),(255,0,0),2)\n",
    "    roi_gray = gray[y:y+h, x:x+w]\n",
    "    roi_color = img[y:y+h, x:x+w]\n",
    "    eyes = eye_cascade.detectMultiScale(roi_gray)\n",
    "    for (ex,ey,ew,eh) in eyes:\n",
    "        cv2.rectangle(roi_color,(ex,ey),(ex+ew,ey+eh),(0,255,0),2)\n",
    "# Display the output\n",
    "cv2.imshow('img',image)\n",
    "cv2.waitKey(0)\n",
    "cv2.destroyAllWindows()"
   ]
  },
  {
   "cell_type": "markdown",
   "metadata": {},
   "source": [
    "![alt text](images/facial_detection.png \"Title\")"
   ]
  }
 ],
 "metadata": {
  "kernelspec": {
   "display_name": "Python 3",
   "language": "python",
   "name": "python3"
  },
  "language_info": {
   "codemirror_mode": {
    "name": "ipython",
    "version": 3
   },
   "file_extension": ".py",
   "mimetype": "text/x-python",
   "name": "python",
   "nbconvert_exporter": "python",
   "pygments_lexer": "ipython3",
   "version": "3.7.6"
  }
 },
 "nbformat": 4,
 "nbformat_minor": 4
}
